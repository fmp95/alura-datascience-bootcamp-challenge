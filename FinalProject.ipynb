{
 "cells": [
  {
   "cell_type": "code",
   "execution_count": 1,
   "id": "f92ad3b5",
   "metadata": {},
   "outputs": [
    {
     "data": {
      "application/javascript": [
       "\n",
       "            setTimeout(function() {\n",
       "                var nbb_cell_id = 1;\n",
       "                var nbb_unformatted_code = \"%load_ext nb_black\";\n",
       "                var nbb_formatted_code = \"%load_ext nb_black\";\n",
       "                var nbb_cells = Jupyter.notebook.get_cells();\n",
       "                for (var i = 0; i < nbb_cells.length; ++i) {\n",
       "                    if (nbb_cells[i].input_prompt_number == nbb_cell_id) {\n",
       "                        if (nbb_cells[i].get_text() == nbb_unformatted_code) {\n",
       "                             nbb_cells[i].set_text(nbb_formatted_code);\n",
       "                        }\n",
       "                        break;\n",
       "                    }\n",
       "                }\n",
       "            }, 500);\n",
       "            "
      ],
      "text/plain": [
       "<IPython.core.display.Javascript object>"
      ]
     },
     "metadata": {},
     "output_type": "display_data"
    }
   ],
   "source": [
    "%load_ext nb_black"
   ]
  },
  {
   "cell_type": "markdown",
   "id": "4217fc80",
   "metadata": {},
   "source": [
    "<img style=\"align-self: center;\" src=\"https://www.alura.com.br/assets/img/imersoes/general/og-bootcamps-alura.1616501197.png\" style=\"width: 50%\">\n",
    "<h1 style=\"text-align: center; font-weight: bold;\">Alura Bootcamps - Data Science 2020</h1>\n",
    "<h2 style=\"text-align: center; font-weight: bold;\">Final Project人</h2>\n",
    "\n",
    "<br> \n",
    "\n",
    "---\n",
    "**Date:** April, 2021  \n",
    "**Github:** [fmp95](https://github.com/fmp95)"
   ]
  },
  {
   "cell_type": "markdown",
   "id": "407fae7b",
   "metadata": {},
   "source": [
    "# **Table of Contents**\n",
    "- [Preparation](#Preparation)\n",
    "    - [Libraries Imports](#Libraries-Imports)\n",
    "    - [Customizing Layout](#Customizing-Layout)\n",
    "    - [Check and Download Dataset](#Check-and-Download-Dataset)\n",
    "    - [Loading and Cleaning Dataset](#Loading-and-Cleaning-Dataset)\n",
    "- [Introduction](#Introduction)\n",
    "    - [The Problem](#The-Problem)\n",
    "    - [Trying to Help](#Trying-to-Help)\n",
    "- [Analysing the Data](#Analysing-the-Data)\n",
    "    - [Patients' Profiles](#Patients'-Profiles)\n",
    "        - [Age](#Age)\n",
    "        - [Gender](#Gender)\n",
    "        - [Disease Grouping](#Disease-Grouping)\n",
    "- [References](#References)"
   ]
  },
  {
   "cell_type": "markdown",
   "id": "1f374e3b",
   "metadata": {},
   "source": [
    "# **Preparation**"
   ]
  },
  {
   "cell_type": "markdown",
   "id": "070250db",
   "metadata": {},
   "source": [
    "## **Libraries Imports**"
   ]
  },
  {
   "cell_type": "code",
   "execution_count": 2,
   "id": "5f3b4a7d",
   "metadata": {},
   "outputs": [
    {
     "data": {
      "application/javascript": [
       "\n",
       "            setTimeout(function() {\n",
       "                var nbb_cell_id = 2;\n",
       "                var nbb_unformatted_code = \"from os.path import isfile, isdir, join\\nfrom pandas import read_excel\\nfrom IPython.display import display, HTML\\nfrom matplotlib import pyplot as plt\\nimport matplotlib as mpl\\nimport numpy as np\\n\\nfrom custom.matplotlib_style import matplotlib_style\";\n",
       "                var nbb_formatted_code = \"from os.path import isfile, isdir, join\\nfrom pandas import read_excel\\nfrom IPython.display import display, HTML\\nfrom matplotlib import pyplot as plt\\nimport matplotlib as mpl\\nimport numpy as np\\n\\nfrom custom.matplotlib_style import matplotlib_style\";\n",
       "                var nbb_cells = Jupyter.notebook.get_cells();\n",
       "                for (var i = 0; i < nbb_cells.length; ++i) {\n",
       "                    if (nbb_cells[i].input_prompt_number == nbb_cell_id) {\n",
       "                        if (nbb_cells[i].get_text() == nbb_unformatted_code) {\n",
       "                             nbb_cells[i].set_text(nbb_formatted_code);\n",
       "                        }\n",
       "                        break;\n",
       "                    }\n",
       "                }\n",
       "            }, 500);\n",
       "            "
      ],
      "text/plain": [
       "<IPython.core.display.Javascript object>"
      ]
     },
     "metadata": {},
     "output_type": "display_data"
    }
   ],
   "source": [
    "from os.path import isfile, isdir, join\n",
    "\n",
    "import matplotlib as mpl\n",
    "import numpy as np\n",
    "from IPython.display import display, HTML\n",
    "from matplotlib import pyplot as plt\n",
    "from pandas import read_excel\n",
    "\n",
    "from custom.matplotlib_style import matplotlib_style"
   ]
  },
  {
   "cell_type": "markdown",
   "id": "8a6ef2e8",
   "metadata": {},
   "source": [
    "## **Customizing Layout**"
   ]
  },
  {
   "cell_type": "code",
   "execution_count": 3,
   "id": "a511a2f5",
   "metadata": {},
   "outputs": [
    {
     "data": {
      "text/html": [
       "<style>/*        */\n",
       "/* COLORS */\n",
       "/*        */\n",
       "\n",
       ".notebook_app,\n",
       "#header,\n",
       "#header *,\n",
       "#site,\n",
       "#site *,\n",
       ".nbviewer,\n",
       ".nbviewer * {\n",
       "    background-color: #202024 !important;\n",
       "}\n",
       "\n",
       "#header, #header * {\n",
       "    color: #F5F5F5 !important\n",
       "}\n",
       "\n",
       "\n",
       ".text_cell * {\n",
       "    color: #F5F5F5;\n",
       "}\n",
       "\n",
       ".rendered_html h1 *,\n",
       ".text_cell_render h1 *,\n",
       ".rendered_html h1,\n",
       ".text_cell_render h1,\n",
       ".rendered_html h2 *,\n",
       ".text_cell_render h2 *,\n",
       ".rendered_html h2,\n",
       ".text_cell_render h2,\n",
       ".rendered_html h3 *,\n",
       ".text_cell_render h3 *,\n",
       ".rendered_html h3,\n",
       ".text_cell_render h3 {\n",
       "    color: #8feaa1; !important\n",
       "}\n",
       "\n",
       ".CodeMirror-line,\n",
       ".cm-variable,\n",
       ".output_text pre,\n",
       ".output_subarea,\n",
       ".output_html,\n",
       ".rendered_html,\n",
       ".output_result,\n",
       ".dataframe,\n",
       ".dataframe *,\n",
       ".n,\n",
       ".nn,\n",
       ".input_area * {\n",
       "    color: #F5F5F5 !important\n",
       "}\n",
       "\n",
       ".cm-builtin,\n",
       ".cm-keyword,\n",
       ".kn,\n",
       ".k,\n",
       ".ow,\n",
       ".nb,\n",
       ".nv {\n",
       "    color: #8feaa1 !important\n",
       "}\n",
       "\n",
       ".cm-error,\n",
       ".cm-operator,\n",
       ".cm-string,\n",
       ".s2 {\n",
       "    color: #e57373 !important\n",
       "} \n",
       "\n",
       ".cm-property {\n",
       "    color: #4DB6AC !important\n",
       "}\n",
       "\n",
       ".cm-comment,\n",
       ".c1 {\n",
       "    color: #FFF59D !important;\n",
       "    opacity: 0.3;\n",
       "}\n",
       "\n",
       ".anchor-link {\n",
       "    display: none;\n",
       "    height: 0px;\n",
       "    width: 0px;\n",
       "    font-size: 0px;\n",
       "    padding: 0px;\n",
       "    margin: 0px;\n",
       "    visibility: hidden;\n",
       "}\n",
       "\n",
       ".dataframe thead {\n",
       "    border-bottom: 1px solid #F5F5F5;\n",
       "}\n",
       "\n",
       ".prompt {\n",
       "    color: #90CAF9 !important\n",
       "}\n",
       "\n",
       ".CodeMirror-cursor {\n",
       "    border-left: 2px solid #F5F5F5;\n",
       "}\n",
       "\n",
       ".text_cell_render table thead,\n",
       ".rendered_html table thead {\n",
       "    border-bottom: 1px solid #F5F5F5\n",
       "}\n",
       "\n",
       "/*        */\n",
       "/* FONTS  */\n",
       "/*        */\n",
       "\n",
       "@import url('https://fonts.googleapis.com/css2?family=Fira+Code:wght@500&family=Roboto&display=swap');\n",
       "\n",
       ".notebook_app *,\n",
       ".nbviewer * {\n",
       "    font-family: Roboto;\n",
       "}\n",
       "\n",
       ".CodeMirror,\n",
       ".code_cell *{\n",
       "    font-family: \"Fira Code\"; !important\n",
       "}\n",
       "\n",
       ".dataframe * {\n",
       "    font-family: Roboto;\n",
       "}\n",
       "\n",
       "/*        */\n",
       "/* STYLE  */\n",
       "/*        */\n",
       "\n",
       ".text_cell_render p,\n",
       ".rendered_html p {\n",
       "    text-align: justify;\n",
       "}\n",
       "\n",
       ".text_cell_render,\n",
       ".rendered_html {\n",
       "    line-height: 1.5em;\n",
       "    letter-spacing: 1.5px;\n",
       "}\n",
       "\n",
       ".input_area {\n",
       "    border: 1px dashed #616161 !important;\n",
       "}\n",
       "\n",
       ".CodeMirror {\n",
       "    line-height: 1.5em;\n",
       "    letter-spacing: 1.5px;\n",
       "}\n",
       "\n",
       ".text_cell_render * {\n",
       "    text-decoration: none !important;\n",
       "}\n",
       "\n",
       ".text_cell_render a:hover {\n",
       "    color: #8feaa1;\n",
       "}</style>"
      ],
      "text/plain": [
       "<IPython.core.display.HTML object>"
      ]
     },
     "metadata": {},
     "output_type": "display_data"
    },
    {
     "data": {
      "application/javascript": [
       "\n",
       "            setTimeout(function() {\n",
       "                var nbb_cell_id = 3;\n",
       "                var nbb_unformatted_code = \"# Loading Custom CSS for Notebook Theme\\nwith open(\\\"custom/notebook.css\\\", \\\"r\\\") as file:\\n    notebook_css = HTML(f\\\"<style>{file.read()}</style>\\\")\\n\\n    display(notebook_css)\\n\\n# Load Custom Matplotlib Theme\\nmpl.rcParams.update(matplotlib_style)\";\n",
       "                var nbb_formatted_code = \"# Loading Custom CSS for Notebook Theme\\nwith open(\\\"custom/notebook.css\\\", \\\"r\\\") as file:\\n    notebook_css = HTML(f\\\"<style>{file.read()}</style>\\\")\\n\\n    display(notebook_css)\\n\\n# Load Custom Matplotlib Theme\\nmpl.rcParams.update(matplotlib_style)\";\n",
       "                var nbb_cells = Jupyter.notebook.get_cells();\n",
       "                for (var i = 0; i < nbb_cells.length; ++i) {\n",
       "                    if (nbb_cells[i].input_prompt_number == nbb_cell_id) {\n",
       "                        if (nbb_cells[i].get_text() == nbb_unformatted_code) {\n",
       "                             nbb_cells[i].set_text(nbb_formatted_code);\n",
       "                        }\n",
       "                        break;\n",
       "                    }\n",
       "                }\n",
       "            }, 500);\n",
       "            "
      ],
      "text/plain": [
       "<IPython.core.display.Javascript object>"
      ]
     },
     "metadata": {},
     "output_type": "display_data"
    }
   ],
   "source": [
    "# Loading Custom CSS for Notebook Theme\n",
    "with open(\"custom/notebook.css\", \"r\") as file:\n",
    "    notebook_css = HTML(f\"<style>{file.read()}</style>\")\n",
    "\n",
    "    display(notebook_css)\n",
    "\n",
    "# Load Custom Matplotlib Theme\n",
    "mpl.rcParams.update(matplotlib_style)"
   ]
  },
  {
   "cell_type": "markdown",
   "id": "a6f52ac7",
   "metadata": {},
   "source": [
    "## **Check and Download Dataset**\n",
    "To simplify the reproducibility and guarantee project structure, folders and files are created and downloaded automatically utilizing well known programs, such as wget, and common terminal commands.\n",
    "\n",
    "**Make sure you have wget installed, otherwise you will need to install the dataset to */src* folder and rename it to *dataset.xlsx***  \n",
    "**Since the dataset is hosted by another GitHub user, it may not be available at today's date**"
   ]
  },
  {
   "cell_type": "code",
   "execution_count": 4,
   "id": "b259428d",
   "metadata": {},
   "outputs": [
    {
     "name": "stdout",
     "output_type": "stream",
     "text": [
      "Folder already exists!\n"
     ]
    },
    {
     "data": {
      "application/javascript": [
       "\n",
       "            setTimeout(function() {\n",
       "                var nbb_cell_id = 4;\n",
       "                var nbb_unformatted_code = \"# Creating src folder if it doesn't exist\\ndirectory = \\\"files\\\"\\n\\nif not isdir(directory):\\n    !mkdir $directory\\n\\n    assert isdir(directory)\\n    print(\\\"Folder created with success!\\\")\\n\\nelse:\\n    print(\\\"Folder already exists!\\\")\";\n",
       "                var nbb_formatted_code = \"# Creating src folder if it doesn't exist\\ndirectory = \\\"files\\\"\\n\\nif not isdir(directory):\\n    !mkdir $directory\\n\\n    assert isdir(directory)\\n    print(\\\"Folder created with success!\\\")\\n\\nelse:\\n    print(\\\"Folder already exists!\\\")\";\n",
       "                var nbb_cells = Jupyter.notebook.get_cells();\n",
       "                for (var i = 0; i < nbb_cells.length; ++i) {\n",
       "                    if (nbb_cells[i].input_prompt_number == nbb_cell_id) {\n",
       "                        if (nbb_cells[i].get_text() == nbb_unformatted_code) {\n",
       "                             nbb_cells[i].set_text(nbb_formatted_code);\n",
       "                        }\n",
       "                        break;\n",
       "                    }\n",
       "                }\n",
       "            }, 500);\n",
       "            "
      ],
      "text/plain": [
       "<IPython.core.display.Javascript object>"
      ]
     },
     "metadata": {},
     "output_type": "display_data"
    }
   ],
   "source": [
    "# Creating src folder if it doesn't exist\n",
    "directory = \"files\"\n",
    "\n",
    "if not isdir(directory):\n",
    "    !mkdir $directory\n",
    "\n",
    "    assert isdir(directory)\n",
    "    print(\"Folder created with success!\")\n",
    "\n",
    "else:\n",
    "    print(\"Folder already exists!\")"
   ]
  },
  {
   "cell_type": "code",
   "execution_count": 5,
   "id": "cf2ad24b",
   "metadata": {},
   "outputs": [
    {
     "name": "stdout",
     "output_type": "stream",
     "text": [
      "Dataset already exists!\n"
     ]
    },
    {
     "data": {
      "application/javascript": [
       "\n",
       "            setTimeout(function() {\n",
       "                var nbb_cell_id = 5;\n",
       "                var nbb_unformatted_code = \"# Downloading dataset if it doesn't exist\\ndataset_file = \\\"dataset.xlsx\\\"\\nfile_path = join(directory, dataset_file)\\n\\nif not isfile(file_path):\\n    url = (\\n        \\\"https://github.com/alura-cursos/covid-19-clinical\\\"\\n        + \\\"/raw/main/Kaggle_Sirio_Libanes_ICU_Prediction.xlsx\\\"\\n    )\\n\\n    !wget -O $file_path $url\\n\\n    assert isfile(file_path)\\n    print(\\\"Dataset downloaded with success!\\\")\\n\\nelse:\\n    print(\\\"Dataset already exists!\\\")\";\n",
       "                var nbb_formatted_code = \"# Downloading dataset if it doesn't exist\\ndataset_file = \\\"dataset.xlsx\\\"\\nfile_path = join(directory, dataset_file)\\n\\nif not isfile(file_path):\\n    url = (\\n        \\\"https://github.com/alura-cursos/covid-19-clinical\\\"\\n        + \\\"/raw/main/Kaggle_Sirio_Libanes_ICU_Prediction.xlsx\\\"\\n    )\\n\\n    !wget -O $file_path $url\\n\\n    assert isfile(file_path)\\n    print(\\\"Dataset downloaded with success!\\\")\\n\\nelse:\\n    print(\\\"Dataset already exists!\\\")\";\n",
       "                var nbb_cells = Jupyter.notebook.get_cells();\n",
       "                for (var i = 0; i < nbb_cells.length; ++i) {\n",
       "                    if (nbb_cells[i].input_prompt_number == nbb_cell_id) {\n",
       "                        if (nbb_cells[i].get_text() == nbb_unformatted_code) {\n",
       "                             nbb_cells[i].set_text(nbb_formatted_code);\n",
       "                        }\n",
       "                        break;\n",
       "                    }\n",
       "                }\n",
       "            }, 500);\n",
       "            "
      ],
      "text/plain": [
       "<IPython.core.display.Javascript object>"
      ]
     },
     "metadata": {},
     "output_type": "display_data"
    }
   ],
   "source": [
    "# Downloading dataset if it doesn't exist\n",
    "dataset_file = \"dataset.xlsx\"\n",
    "file_path = join(directory, dataset_file)\n",
    "\n",
    "if not isfile(file_path):\n",
    "    url = (\n",
    "        \"https://github.com/alura-cursos/covid-19-clinical\"\n",
    "        + \"/raw/main/Kaggle_Sirio_Libanes_ICU_Prediction.xlsx\"\n",
    "    )\n",
    "\n",
    "    !wget -O $file_path $url\n",
    "\n",
    "    assert isfile(file_path)\n",
    "    print(\"Dataset downloaded with success!\")\n",
    "\n",
    "else:\n",
    "    print(\"Dataset already exists!\")"
   ]
  },
  {
   "cell_type": "markdown",
   "id": "2aef9e88",
   "metadata": {},
   "source": [
    "## **Loading and Cleaning Dataset**"
   ]
  },
  {
   "cell_type": "code",
   "execution_count": 6,
   "id": "33721bab",
   "metadata": {
    "scrolled": true
   },
   "outputs": [
    {
     "data": {
      "text/html": [
       "<div>\n",
       "<style scoped>\n",
       "    .dataframe tbody tr th:only-of-type {\n",
       "        vertical-align: middle;\n",
       "    }\n",
       "\n",
       "    .dataframe tbody tr th {\n",
       "        vertical-align: top;\n",
       "    }\n",
       "\n",
       "    .dataframe thead th {\n",
       "        text-align: right;\n",
       "    }\n",
       "</style>\n",
       "<table border=\"1\" class=\"dataframe\">\n",
       "  <thead>\n",
       "    <tr style=\"text-align: right;\">\n",
       "      <th></th>\n",
       "      <th>patient_visit_identifier</th>\n",
       "      <th>age_above65</th>\n",
       "      <th>age_percentil</th>\n",
       "      <th>gender</th>\n",
       "      <th>disease_grouping_1</th>\n",
       "      <th>disease_grouping_2</th>\n",
       "      <th>disease_grouping_3</th>\n",
       "      <th>disease_grouping_4</th>\n",
       "      <th>disease_grouping_5</th>\n",
       "      <th>disease_grouping_6</th>\n",
       "      <th>...</th>\n",
       "      <th>temperature_diff</th>\n",
       "      <th>oxygen_saturation_diff</th>\n",
       "      <th>bloodpressure_diastolic_diff_rel</th>\n",
       "      <th>bloodpressure_sistolic_diff_rel</th>\n",
       "      <th>heart_rate_diff_rel</th>\n",
       "      <th>respiratory_rate_diff_rel</th>\n",
       "      <th>temperature_diff_rel</th>\n",
       "      <th>oxygen_saturation_diff_rel</th>\n",
       "      <th>window</th>\n",
       "      <th>icu</th>\n",
       "    </tr>\n",
       "  </thead>\n",
       "  <tbody>\n",
       "    <tr>\n",
       "      <th>0</th>\n",
       "      <td>0</td>\n",
       "      <td>1</td>\n",
       "      <td>60th</td>\n",
       "      <td>0</td>\n",
       "      <td>0.0</td>\n",
       "      <td>0.0</td>\n",
       "      <td>0.0</td>\n",
       "      <td>0.0</td>\n",
       "      <td>1.0</td>\n",
       "      <td>1.0</td>\n",
       "      <td>...</td>\n",
       "      <td>-1.000000</td>\n",
       "      <td>-1.000000</td>\n",
       "      <td>-1.000000</td>\n",
       "      <td>-1.000000</td>\n",
       "      <td>-1.000000</td>\n",
       "      <td>-1.000000</td>\n",
       "      <td>-1.000000</td>\n",
       "      <td>-1.000000</td>\n",
       "      <td>0-2</td>\n",
       "      <td>0</td>\n",
       "    </tr>\n",
       "    <tr>\n",
       "      <th>1</th>\n",
       "      <td>0</td>\n",
       "      <td>1</td>\n",
       "      <td>60th</td>\n",
       "      <td>0</td>\n",
       "      <td>0.0</td>\n",
       "      <td>0.0</td>\n",
       "      <td>0.0</td>\n",
       "      <td>0.0</td>\n",
       "      <td>1.0</td>\n",
       "      <td>1.0</td>\n",
       "      <td>...</td>\n",
       "      <td>-1.000000</td>\n",
       "      <td>-1.000000</td>\n",
       "      <td>-1.000000</td>\n",
       "      <td>-1.000000</td>\n",
       "      <td>-1.000000</td>\n",
       "      <td>-1.000000</td>\n",
       "      <td>-1.000000</td>\n",
       "      <td>-1.000000</td>\n",
       "      <td>2-4</td>\n",
       "      <td>0</td>\n",
       "    </tr>\n",
       "    <tr>\n",
       "      <th>2</th>\n",
       "      <td>0</td>\n",
       "      <td>1</td>\n",
       "      <td>60th</td>\n",
       "      <td>0</td>\n",
       "      <td>0.0</td>\n",
       "      <td>0.0</td>\n",
       "      <td>0.0</td>\n",
       "      <td>0.0</td>\n",
       "      <td>1.0</td>\n",
       "      <td>1.0</td>\n",
       "      <td>...</td>\n",
       "      <td>NaN</td>\n",
       "      <td>NaN</td>\n",
       "      <td>NaN</td>\n",
       "      <td>NaN</td>\n",
       "      <td>NaN</td>\n",
       "      <td>NaN</td>\n",
       "      <td>NaN</td>\n",
       "      <td>NaN</td>\n",
       "      <td>4-6</td>\n",
       "      <td>0</td>\n",
       "    </tr>\n",
       "    <tr>\n",
       "      <th>3</th>\n",
       "      <td>0</td>\n",
       "      <td>1</td>\n",
       "      <td>60th</td>\n",
       "      <td>0</td>\n",
       "      <td>0.0</td>\n",
       "      <td>0.0</td>\n",
       "      <td>0.0</td>\n",
       "      <td>0.0</td>\n",
       "      <td>1.0</td>\n",
       "      <td>1.0</td>\n",
       "      <td>...</td>\n",
       "      <td>-1.000000</td>\n",
       "      <td>-1.000000</td>\n",
       "      <td>NaN</td>\n",
       "      <td>NaN</td>\n",
       "      <td>NaN</td>\n",
       "      <td>NaN</td>\n",
       "      <td>-1.000000</td>\n",
       "      <td>-1.000000</td>\n",
       "      <td>6-12</td>\n",
       "      <td>0</td>\n",
       "    </tr>\n",
       "    <tr>\n",
       "      <th>4</th>\n",
       "      <td>0</td>\n",
       "      <td>1</td>\n",
       "      <td>60th</td>\n",
       "      <td>0</td>\n",
       "      <td>0.0</td>\n",
       "      <td>0.0</td>\n",
       "      <td>0.0</td>\n",
       "      <td>0.0</td>\n",
       "      <td>1.0</td>\n",
       "      <td>1.0</td>\n",
       "      <td>...</td>\n",
       "      <td>-0.238095</td>\n",
       "      <td>-0.818182</td>\n",
       "      <td>-0.389967</td>\n",
       "      <td>0.407558</td>\n",
       "      <td>-0.230462</td>\n",
       "      <td>0.096774</td>\n",
       "      <td>-0.242282</td>\n",
       "      <td>-0.814433</td>\n",
       "      <td>ABOVE_12</td>\n",
       "      <td>1</td>\n",
       "    </tr>\n",
       "  </tbody>\n",
       "</table>\n",
       "<p>5 rows × 231 columns</p>\n",
       "</div>"
      ],
      "text/plain": [
       "   patient_visit_identifier  age_above65 age_percentil  gender  \\\n",
       "0                         0            1          60th       0   \n",
       "1                         0            1          60th       0   \n",
       "2                         0            1          60th       0   \n",
       "3                         0            1          60th       0   \n",
       "4                         0            1          60th       0   \n",
       "\n",
       "   disease_grouping_1  disease_grouping_2  disease_grouping_3  \\\n",
       "0                 0.0                 0.0                 0.0   \n",
       "1                 0.0                 0.0                 0.0   \n",
       "2                 0.0                 0.0                 0.0   \n",
       "3                 0.0                 0.0                 0.0   \n",
       "4                 0.0                 0.0                 0.0   \n",
       "\n",
       "   disease_grouping_4  disease_grouping_5  disease_grouping_6  ...  \\\n",
       "0                 0.0                 1.0                 1.0  ...   \n",
       "1                 0.0                 1.0                 1.0  ...   \n",
       "2                 0.0                 1.0                 1.0  ...   \n",
       "3                 0.0                 1.0                 1.0  ...   \n",
       "4                 0.0                 1.0                 1.0  ...   \n",
       "\n",
       "   temperature_diff  oxygen_saturation_diff  bloodpressure_diastolic_diff_rel  \\\n",
       "0         -1.000000               -1.000000                         -1.000000   \n",
       "1         -1.000000               -1.000000                         -1.000000   \n",
       "2               NaN                     NaN                               NaN   \n",
       "3         -1.000000               -1.000000                               NaN   \n",
       "4         -0.238095               -0.818182                         -0.389967   \n",
       "\n",
       "   bloodpressure_sistolic_diff_rel  heart_rate_diff_rel  \\\n",
       "0                        -1.000000            -1.000000   \n",
       "1                        -1.000000            -1.000000   \n",
       "2                              NaN                  NaN   \n",
       "3                              NaN                  NaN   \n",
       "4                         0.407558            -0.230462   \n",
       "\n",
       "   respiratory_rate_diff_rel  temperature_diff_rel  \\\n",
       "0                  -1.000000             -1.000000   \n",
       "1                  -1.000000             -1.000000   \n",
       "2                        NaN                   NaN   \n",
       "3                        NaN             -1.000000   \n",
       "4                   0.096774             -0.242282   \n",
       "\n",
       "   oxygen_saturation_diff_rel    window  icu  \n",
       "0                   -1.000000       0-2    0  \n",
       "1                   -1.000000       2-4    0  \n",
       "2                         NaN       4-6    0  \n",
       "3                   -1.000000      6-12    0  \n",
       "4                   -0.814433  ABOVE_12    1  \n",
       "\n",
       "[5 rows x 231 columns]"
      ]
     },
     "execution_count": 6,
     "metadata": {},
     "output_type": "execute_result"
    },
    {
     "data": {
      "application/javascript": [
       "\n",
       "            setTimeout(function() {\n",
       "                var nbb_cell_id = 6;\n",
       "                var nbb_unformatted_code = \"# Load dataset into a dataframe\\ndataset = read_excel(file_path, engine=\\\"openpyxl\\\")\\n\\n# Lowercase column names and replace whitespaces for underscores\\ndataset.columns = [column.lower().replace(\\\" \\\", \\\"_\\\") for column in dataset.columns]\\n\\n# Print head of dataframe\\ndataset.head()\";\n",
       "                var nbb_formatted_code = \"# Load dataset into a dataframe\\ndataset = read_excel(file_path, engine=\\\"openpyxl\\\")\\n\\n# Lowercase column names and replace whitespaces for underscores\\ndataset.columns = [column.lower().replace(\\\" \\\", \\\"_\\\") for column in dataset.columns]\\n\\n# Print head of dataframe\\ndataset.head()\";\n",
       "                var nbb_cells = Jupyter.notebook.get_cells();\n",
       "                for (var i = 0; i < nbb_cells.length; ++i) {\n",
       "                    if (nbb_cells[i].input_prompt_number == nbb_cell_id) {\n",
       "                        if (nbb_cells[i].get_text() == nbb_unformatted_code) {\n",
       "                             nbb_cells[i].set_text(nbb_formatted_code);\n",
       "                        }\n",
       "                        break;\n",
       "                    }\n",
       "                }\n",
       "            }, 500);\n",
       "            "
      ],
      "text/plain": [
       "<IPython.core.display.Javascript object>"
      ]
     },
     "metadata": {},
     "output_type": "display_data"
    }
   ],
   "source": [
    "# Load dataset into a dataframe\n",
    "dataset = read_excel(file_path, engine=\"openpyxl\")\n",
    "\n",
    "# Lowercase column names and replace whitespaces for underscores\n",
    "dataset.columns = [column.lower().replace(\" \", \"_\") for column in dataset.columns]\n",
    "\n",
    "# Print head of dataframe\n",
    "dataset.head()"
   ]
  },
  {
   "cell_type": "markdown",
   "id": "7b8f8638",
   "metadata": {},
   "source": [
    "# Introduction"
   ]
  },
  {
   "cell_type": "markdown",
   "id": "79f88c4e",
   "metadata": {},
   "source": [
    "## The Problem\n",
    "\n",
    "COVID-19 is a contagious disease caused by the coronavirus 2 (SARS-CoV-2) [[1]](#ref_1). Since it's deadly, can spread easily and there's still no effective treatment or cure to it [[2]](#ref_2), hospitals are very sensitive to overload. To avoid that problem, it'd be vital to know which patients would need extra medical attention. Some conditions were already listed by health authorities, an people that have any of those conditions may need extra care [[3]](#ref_3). Some of them are:\n",
    "\n",
    "- Cancer\n",
    "- Chronic Kidney Disease\n",
    "- Chronic Lung  Diseases\n",
    "- Diabetes\n",
    "- Heart Conditions\n",
    "- HIV\n",
    "- Overweight\n",
    "- Smoking\n",
    "\n",
    "According to the patient's profile, we can try to predict if they will need extra care or not. **Note that this disease is extremely deadly, so we need to be extra careful with our predictions. We need to make sure we don't underestimate the capability of one patient to need extra medical care.**"
   ]
  },
  {
   "cell_type": "markdown",
   "id": "bc842519",
   "metadata": {},
   "source": [
    "## Trying to Help\n",
    "Sírio Libanês is a well-known Brazilian hospital and they separated some anonymous clinical data for study and for people to try to develop a model to predict the outcome of a patient [[4]](#ref_4). Our objective in this document is try to select some conditions related to patients, in the data they made available, and try to predict if new patients would need extra care based on the information gathered by the study subjects."
   ]
  },
  {
   "cell_type": "markdown",
   "id": "e034659c",
   "metadata": {},
   "source": [
    "# Analysing the Data\n",
    "First thing we can do is try to understand the profile of patients the were sent to ICU due to COVID-19. In our data, we have a column name *icu* which contain the following values:\n",
    "\n",
    "|Value|Meaning|\n",
    "|-|-|\n",
    "|0|Patient wasn't sent to ICU|\n",
    "|1|Patient was sent to ICU|\n",
    "\n",
    "Some fields we can analyse are: *age*, *gender* and *disease grouping*."
   ]
  },
  {
   "cell_type": "markdown",
   "id": "e1ddf220",
   "metadata": {},
   "source": [
    "## Patients' Profiles"
   ]
  },
  {
   "cell_type": "markdown",
   "id": "a1a273bb",
   "metadata": {},
   "source": [
    "### Age"
   ]
  },
  {
   "cell_type": "code",
   "execution_count": 7,
   "id": "c43aaa91",
   "metadata": {},
   "outputs": [
    {
     "data": {
      "text/plain": [
       "10th          10\n",
       "20th          12\n",
       "30th          18\n",
       "40th          15\n",
       "50th          20\n",
       "60th          20\n",
       "70th          22\n",
       "80th          26\n",
       "90th          23\n",
       "Above 90th    29\n",
       "Name: age_percentil, dtype: int64"
      ]
     },
     "execution_count": 7,
     "metadata": {},
     "output_type": "execute_result"
    },
    {
     "data": {
      "application/javascript": [
       "\n",
       "            setTimeout(function() {\n",
       "                var nbb_cell_id = 7;\n",
       "                var nbb_unformatted_code = \"# Getting count of ages\\n\\n# Selecting only the first entry for each unique identifier and there were sent to ICU\\npatients = dataset[dataset.icu == 1].groupby(\\\"patient_visit_identifier\\\").first()\\n\\n# Count patients withing age percentil\\npatients = patients[\\\"age_percentil\\\"].value_counts().sort_index()\\n\\npatients\";\n",
       "                var nbb_formatted_code = \"# Getting count of ages\\n\\n# Selecting only the first entry for each unique identifier and there were sent to ICU\\npatients = dataset[dataset.icu == 1].groupby(\\\"patient_visit_identifier\\\").first()\\n\\n# Count patients withing age percentil\\npatients = patients[\\\"age_percentil\\\"].value_counts().sort_index()\\n\\npatients\";\n",
       "                var nbb_cells = Jupyter.notebook.get_cells();\n",
       "                for (var i = 0; i < nbb_cells.length; ++i) {\n",
       "                    if (nbb_cells[i].input_prompt_number == nbb_cell_id) {\n",
       "                        if (nbb_cells[i].get_text() == nbb_unformatted_code) {\n",
       "                             nbb_cells[i].set_text(nbb_formatted_code);\n",
       "                        }\n",
       "                        break;\n",
       "                    }\n",
       "                }\n",
       "            }, 500);\n",
       "            "
      ],
      "text/plain": [
       "<IPython.core.display.Javascript object>"
      ]
     },
     "metadata": {},
     "output_type": "display_data"
    }
   ],
   "source": [
    "# Getting count of ages\n",
    "\n",
    "# Selecting only the first entry for each unique identifier and there were sent to ICU\n",
    "patients = dataset[dataset.icu == 1].groupby(\"patient_visit_identifier\").first()\n",
    "\n",
    "# Count patients withing age percentil\n",
    "patients = patients[\"age_percentil\"].value_counts().sort_index()\n",
    "\n",
    "patients"
   ]
  },
  {
   "cell_type": "code",
   "execution_count": 8,
   "id": "c0726a63",
   "metadata": {},
   "outputs": [
    {
     "data": {
      "image/png": "[encoded data removed]",
      "text/plain": [
       "<Figure size 1080x720 with 1 Axes>"
      ]
     },
     "metadata": {
      "needs_background": "dark"
     },
     "output_type": "display_data"
    },
    {
     "data": {
      "application/javascript": [
       "\n",
       "            setTimeout(function() {\n",
       "                var nbb_cell_id = 8;\n",
       "                var nbb_unformatted_code = \"# Select data\\nindex = patients.index\\nvalue = patients.values\\n\\n# Create figure\\nfigure = plt.figure()\\n\\n# Create a subplot\\naxis = figure.subplots(1)\\n\\n# Create horizontal bar plot\\naxis.barh(index, value, zorder=2)\\n\\n# Set labels\\naxis.set_title(\\\"Number of Patients Sent to ICU and Their Ages\\\")\\naxis.set_ylabel(\\\"Age Percentil\\\")\\naxis.set_xlabel(\\\"Patient Count\\\")\\n\\nplt.show(figure)\";\n",
       "                var nbb_formatted_code = \"# Select data\\nindex = patients.index\\nvalue = patients.values\\n\\n# Create figure\\nfigure = plt.figure()\\n\\n# Create a subplot\\naxis = figure.subplots(1)\\n\\n# Create horizontal bar plot\\naxis.barh(index, value, zorder=2)\\n\\n# Set labels\\naxis.set_title(\\\"Number of Patients Sent to ICU and Their Ages\\\")\\naxis.set_ylabel(\\\"Age Percentil\\\")\\naxis.set_xlabel(\\\"Patient Count\\\")\\n\\nplt.show(figure)\";\n",
       "                var nbb_cells = Jupyter.notebook.get_cells();\n",
       "                for (var i = 0; i < nbb_cells.length; ++i) {\n",
       "                    if (nbb_cells[i].input_prompt_number == nbb_cell_id) {\n",
       "                        if (nbb_cells[i].get_text() == nbb_unformatted_code) {\n",
       "                             nbb_cells[i].set_text(nbb_formatted_code);\n",
       "                        }\n",
       "                        break;\n",
       "                    }\n",
       "                }\n",
       "            }, 500);\n",
       "            "
      ],
      "text/plain": [
       "<IPython.core.display.Javascript object>"
      ]
     },
     "metadata": {},
     "output_type": "display_data"
    }
   ],
   "source": [
    "# Select data\n",
    "index = patients.index\n",
    "value = patients.values\n",
    "\n",
    "# Create figure\n",
    "figure = plt.figure()\n",
    "\n",
    "# Create a subplot\n",
    "axis = figure.subplots(1)\n",
    "\n",
    "# Create horizontal bar plot\n",
    "axis.barh(index, value, zorder=2)\n",
    "\n",
    "# Set labels\n",
    "axis.set_title(\"Number of Patients Sent to ICU and Their Ages\")\n",
    "axis.set_ylabel(\"Age Percentil\")\n",
    "axis.set_xlabel(\"Patient Count\")\n",
    "\n",
    "plt.show(figure)"
   ]
  },
  {
   "cell_type": "code",
   "execution_count": 9,
   "id": "78352a2c",
   "metadata": {},
   "outputs": [
    {
     "data": {
      "image/png": "[encoded data removed]",
      "text/plain": [
       "<Figure size 1080x720 with 1 Axes>"
      ]
     },
     "metadata": {
      "needs_background": "dark"
     },
     "output_type": "display_data"
    },
    {
     "data": {
      "application/javascript": [
       "\n",
       "            setTimeout(function() {\n",
       "                var nbb_cell_id = 9;\n",
       "                var nbb_unformatted_code = \"# Sum number of patients\\nsum = np.sum(value)\\n\\n# Create figure\\nfigure = plt.figure()\\n\\n# Create a subplot\\naxis = figure.subplots(1)\\n\\n# Create horizontal bar plot\\naxis.barh(index, (value / sum) * 100, zorder=2)\\n\\n# Set labels\\naxis.set_title(\\\"Number of Patients Sent to ICU and Their Ages (in %)\\\")\\naxis.set_ylabel(\\\"Age Percentil\\\")\\naxis.set_xlabel(\\\"Percentage of Total Patients\\\")\\n\\nplt.show(figure)\";\n",
       "                var nbb_formatted_code = \"# Sum number of patients\\nsum = np.sum(value)\\n\\n# Create figure\\nfigure = plt.figure()\\n\\n# Create a subplot\\naxis = figure.subplots(1)\\n\\n# Create horizontal bar plot\\naxis.barh(index, (value / sum) * 100, zorder=2)\\n\\n# Set labels\\naxis.set_title(\\\"Number of Patients Sent to ICU and Their Ages (in %)\\\")\\naxis.set_ylabel(\\\"Age Percentil\\\")\\naxis.set_xlabel(\\\"Percentage of Total Patients\\\")\\n\\nplt.show(figure)\";\n",
       "                var nbb_cells = Jupyter.notebook.get_cells();\n",
       "                for (var i = 0; i < nbb_cells.length; ++i) {\n",
       "                    if (nbb_cells[i].input_prompt_number == nbb_cell_id) {\n",
       "                        if (nbb_cells[i].get_text() == nbb_unformatted_code) {\n",
       "                             nbb_cells[i].set_text(nbb_formatted_code);\n",
       "                        }\n",
       "                        break;\n",
       "                    }\n",
       "                }\n",
       "            }, 500);\n",
       "            "
      ],
      "text/plain": [
       "<IPython.core.display.Javascript object>"
      ]
     },
     "metadata": {},
     "output_type": "display_data"
    }
   ],
   "source": [
    "# Sum number of patients\n",
    "sum = np.sum(value)\n",
    "\n",
    "# Create figure\n",
    "figure = plt.figure()\n",
    "\n",
    "# Create a subplot\n",
    "axis = figure.subplots(1)\n",
    "\n",
    "# Create horizontal bar plot\n",
    "axis.barh(index, (value / sum) * 100, zorder=2)\n",
    "\n",
    "# Set labels\n",
    "axis.set_title(\"Number of Patients Sent to ICU and Their Ages (in %)\")\n",
    "axis.set_ylabel(\"Age Percentil\")\n",
    "axis.set_xlabel(\"Percentage of Total Patients\")\n",
    "\n",
    "plt.show(figure)"
   ]
  },
  {
   "cell_type": "markdown",
   "id": "92199cfe",
   "metadata": {},
   "source": [
    "It's clear to see that age is a condition that worsens the symptoms of COVID-19, leading the patient to need extra care and being sent to ICU."
   ]
  },
  {
   "cell_type": "markdown",
   "id": "d83bfacc",
   "metadata": {},
   "source": [
    "### Gender"
   ]
  },
  {
   "cell_type": "code",
   "execution_count": 10,
   "id": "7784802d",
   "metadata": {},
   "outputs": [
    {
     "data": {
      "text/plain": [
       "0    135\n",
       "1     60\n",
       "Name: gender, dtype: int64"
      ]
     },
     "execution_count": 10,
     "metadata": {},
     "output_type": "execute_result"
    },
    {
     "data": {
      "application/javascript": [
       "\n",
       "            setTimeout(function() {\n",
       "                var nbb_cell_id = 10;\n",
       "                var nbb_unformatted_code = \"# Getting count of genders\\n\\n# Selecting only the first entry for each unique identifier and there were sent to ICU\\npatients = dataset[dataset.icu == 1].groupby(\\\"patient_visit_identifier\\\").first()\\n\\n# Count patients withing age percentil\\npatients = patients[\\\"gender\\\"].value_counts().sort_index()\\n\\n# Create label for each gender\\ngender = {0: \\\"Gender 1\\\", 1: \\\"Gender 2\\\"}\\n\\npatients\";\n",
       "                var nbb_formatted_code = \"# Getting count of genders\\n\\n# Selecting only the first entry for each unique identifier and there were sent to ICU\\npatients = dataset[dataset.icu == 1].groupby(\\\"patient_visit_identifier\\\").first()\\n\\n# Count patients withing age percentil\\npatients = patients[\\\"gender\\\"].value_counts().sort_index()\\n\\n# Create label for each gender\\ngender = {0: \\\"Gender 1\\\", 1: \\\"Gender 2\\\"}\\n\\npatients\";\n",
       "                var nbb_cells = Jupyter.notebook.get_cells();\n",
       "                for (var i = 0; i < nbb_cells.length; ++i) {\n",
       "                    if (nbb_cells[i].input_prompt_number == nbb_cell_id) {\n",
       "                        if (nbb_cells[i].get_text() == nbb_unformatted_code) {\n",
       "                             nbb_cells[i].set_text(nbb_formatted_code);\n",
       "                        }\n",
       "                        break;\n",
       "                    }\n",
       "                }\n",
       "            }, 500);\n",
       "            "
      ],
      "text/plain": [
       "<IPython.core.display.Javascript object>"
      ]
     },
     "metadata": {},
     "output_type": "display_data"
    }
   ],
   "source": [
    "# Getting count of genders\n",
    "\n",
    "# Selecting only the first entry for each unique identifier and there were sent to ICU\n",
    "patients = dataset[dataset.icu == 1].groupby(\"patient_visit_identifier\").first()\n",
    "\n",
    "# Count patients withing age percentil\n",
    "patients = patients[\"gender\"].value_counts().sort_index()\n",
    "\n",
    "# Create label for each gender\n",
    "gender = {0: \"Gender 1\", 1: \"Gender 2\"}\n",
    "\n",
    "patients"
   ]
  },
  {
   "cell_type": "code",
   "execution_count": 11,
   "id": "464f8c4c",
   "metadata": {},
   "outputs": [
    {
     "data": {
      "image/png": "[encoded data removed]",
      "text/plain": [
       "<Figure size 1080x720 with 1 Axes>"
      ]
     },
     "metadata": {
      "needs_background": "dark"
     },
     "output_type": "display_data"
    },
    {
     "data": {
      "application/javascript": [
       "\n",
       "            setTimeout(function() {\n",
       "                var nbb_cell_id = 11;\n",
       "                var nbb_unformatted_code = \"# Select data\\nindex = [gender[gender_num] for gender_num in patients.index]\\nvalue = patients.values\\n\\n# Create a figure\\nfigure = plt.figure()\\n\\n# Create a subplot\\naxis = figure.subplots(1)\\n\\n# Create bar plot\\naxis.bar(index, value, zorder=2)\\n\\n# Set labels\\naxis.set_title(\\\"Number of Patients Sent to ICU and Their Gender\\\")\\naxis.set_xlabel(\\\"Gender\\\")\\naxis.set_ylabel(\\\"Patient Count\\\")\\n\\nplt.show(figure)\";\n",
       "                var nbb_formatted_code = \"# Select data\\nindex = [gender[gender_num] for gender_num in patients.index]\\nvalue = patients.values\\n\\n# Create a figure\\nfigure = plt.figure()\\n\\n# Create a subplot\\naxis = figure.subplots(1)\\n\\n# Create bar plot\\naxis.bar(index, value, zorder=2)\\n\\n# Set labels\\naxis.set_title(\\\"Number of Patients Sent to ICU and Their Gender\\\")\\naxis.set_xlabel(\\\"Gender\\\")\\naxis.set_ylabel(\\\"Patient Count\\\")\\n\\nplt.show(figure)\";\n",
       "                var nbb_cells = Jupyter.notebook.get_cells();\n",
       "                for (var i = 0; i < nbb_cells.length; ++i) {\n",
       "                    if (nbb_cells[i].input_prompt_number == nbb_cell_id) {\n",
       "                        if (nbb_cells[i].get_text() == nbb_unformatted_code) {\n",
       "                             nbb_cells[i].set_text(nbb_formatted_code);\n",
       "                        }\n",
       "                        break;\n",
       "                    }\n",
       "                }\n",
       "            }, 500);\n",
       "            "
      ],
      "text/plain": [
       "<IPython.core.display.Javascript object>"
      ]
     },
     "metadata": {},
     "output_type": "display_data"
    }
   ],
   "source": [
    "# Select data\n",
    "index = [gender[gender_num] for gender_num in patients.index]\n",
    "value = patients.values\n",
    "\n",
    "# Create a figure\n",
    "figure = plt.figure()\n",
    "\n",
    "# Create a subplot\n",
    "axis = figure.subplots(1)\n",
    "\n",
    "# Create bar plot\n",
    "axis.bar(index, value, zorder=2)\n",
    "\n",
    "# Set labels\n",
    "axis.set_title(\"Number of Patients Sent to ICU and Their Gender\")\n",
    "axis.set_xlabel(\"Gender\")\n",
    "axis.set_ylabel(\"Patient Count\")\n",
    "\n",
    "plt.show(figure)"
   ]
  },
  {
   "cell_type": "code",
   "execution_count": 12,
   "id": "f19bc4e5",
   "metadata": {},
   "outputs": [
    {
     "data": {
      "image/png": "[encoded data removed]",
      "text/plain": [
       "<Figure size 1080x720 with 1 Axes>"
      ]
     },
     "metadata": {
      "needs_background": "dark"
     },
     "output_type": "display_data"
    },
    {
     "data": {
      "application/javascript": [
       "\n",
       "            setTimeout(function() {\n",
       "                var nbb_cell_id = 12;\n",
       "                var nbb_unformatted_code = \"# Sum patients count\\nsum = np.sum(value)\\n\\n# Create a figure\\nfigure = plt.figure()\\n\\n# Create a subplot\\naxis = figure.subplots(1)\\n\\n# Create a bar plot\\naxis.bar(index, (value / sum) * 100, zorder=2)\\n\\n# Set labels\\naxis.set_title(\\\"Number of Patients Sent to ICU and Their Ages (in %)\\\")\\naxis.set_xlabel(\\\"Gender\\\")\\naxis.set_ylabel(\\\"Percentage of Total Patients\\\")\\n\\nplt.show(figure)\";\n",
       "                var nbb_formatted_code = \"# Sum patients count\\nsum = np.sum(value)\\n\\n# Create a figure\\nfigure = plt.figure()\\n\\n# Create a subplot\\naxis = figure.subplots(1)\\n\\n# Create a bar plot\\naxis.bar(index, (value / sum) * 100, zorder=2)\\n\\n# Set labels\\naxis.set_title(\\\"Number of Patients Sent to ICU and Their Ages (in %)\\\")\\naxis.set_xlabel(\\\"Gender\\\")\\naxis.set_ylabel(\\\"Percentage of Total Patients\\\")\\n\\nplt.show(figure)\";\n",
       "                var nbb_cells = Jupyter.notebook.get_cells();\n",
       "                for (var i = 0; i < nbb_cells.length; ++i) {\n",
       "                    if (nbb_cells[i].input_prompt_number == nbb_cell_id) {\n",
       "                        if (nbb_cells[i].get_text() == nbb_unformatted_code) {\n",
       "                             nbb_cells[i].set_text(nbb_formatted_code);\n",
       "                        }\n",
       "                        break;\n",
       "                    }\n",
       "                }\n",
       "            }, 500);\n",
       "            "
      ],
      "text/plain": [
       "<IPython.core.display.Javascript object>"
      ]
     },
     "metadata": {},
     "output_type": "display_data"
    }
   ],
   "source": [
    "# Sum patients count\n",
    "sum = np.sum(value)\n",
    "\n",
    "# Create a figure\n",
    "figure = plt.figure()\n",
    "\n",
    "# Create a subplot\n",
    "axis = figure.subplots(1)\n",
    "\n",
    "# Create a bar plot\n",
    "axis.bar(index, (value / sum) * 100, zorder=2)\n",
    "\n",
    "# Set labels\n",
    "axis.set_title(\"Number of Patients Sent to ICU and Their Ages (in %)\")\n",
    "axis.set_xlabel(\"Gender\")\n",
    "axis.set_ylabel(\"Percentage of Total Patients\")\n",
    "\n",
    "plt.show(figure)"
   ]
  },
  {
   "cell_type": "markdown",
   "id": "e90042e6",
   "metadata": {},
   "source": [
    "According to some researches, men are dying more than women of COVID-19 [[5]](#ref-5). The ratio we encounter here, is close to one survey done in China last year [[6]](#ref-6):\n",
    "\n",
    "> In the largest survey of 72,314 suspected or confirmed cases of COVID-19 in China (men, 63.8% of cases; women, 36.2% of cases), the case-fatality ratio was higher among men (2.8%) than among women (1.7%)"
   ]
  },
  {
   "cell_type": "markdown",
   "id": "7ab2f99b",
   "metadata": {},
   "source": [
    "### Disease Grouping"
   ]
  },
  {
   "cell_type": "code",
   "execution_count": 13,
   "id": "597c8a80",
   "metadata": {},
   "outputs": [
    {
     "data": {
      "text/plain": [
       "disease_grouping_1    25.0\n",
       "disease_grouping_2    11.0\n",
       "disease_grouping_3    29.0\n",
       "disease_grouping_4     8.0\n",
       "disease_grouping_5    36.0\n",
       "dtype: float64"
      ]
     },
     "execution_count": 13,
     "metadata": {},
     "output_type": "execute_result"
    },
    {
     "data": {
      "application/javascript": [
       "\n",
       "            setTimeout(function() {\n",
       "                var nbb_cell_id = 13;\n",
       "                var nbb_unformatted_code = \"# Getting count of patients for each disease grouping\\n\\npatients = (\\n    dataset[dataset.icu == 1]\\n    .groupby(\\\"patient_visit_identifier\\\")\\n    .first()[\\n        [\\n            \\\"disease_grouping_1\\\",\\n            \\\"disease_grouping_2\\\",\\n            \\\"disease_grouping_3\\\",\\n            \\\"disease_grouping_4\\\",\\n            \\\"disease_grouping_5\\\",\\n        ]\\n    ]\\n)\\n\\npatients_count = patients.shape[0]\\npatients = patients.sum()\\n\\npatients\";\n",
       "                var nbb_formatted_code = \"# Getting count of patients for each disease grouping\\n\\npatients = (\\n    dataset[dataset.icu == 1]\\n    .groupby(\\\"patient_visit_identifier\\\")\\n    .first()[\\n        [\\n            \\\"disease_grouping_1\\\",\\n            \\\"disease_grouping_2\\\",\\n            \\\"disease_grouping_3\\\",\\n            \\\"disease_grouping_4\\\",\\n            \\\"disease_grouping_5\\\",\\n        ]\\n    ]\\n)\\n\\npatients_count = patients.shape[0]\\npatients = patients.sum()\\n\\npatients\";\n",
       "                var nbb_cells = Jupyter.notebook.get_cells();\n",
       "                for (var i = 0; i < nbb_cells.length; ++i) {\n",
       "                    if (nbb_cells[i].input_prompt_number == nbb_cell_id) {\n",
       "                        if (nbb_cells[i].get_text() == nbb_unformatted_code) {\n",
       "                             nbb_cells[i].set_text(nbb_formatted_code);\n",
       "                        }\n",
       "                        break;\n",
       "                    }\n",
       "                }\n",
       "            }, 500);\n",
       "            "
      ],
      "text/plain": [
       "<IPython.core.display.Javascript object>"
      ]
     },
     "metadata": {},
     "output_type": "display_data"
    }
   ],
   "source": [
    "# Getting count of patients for each disease grouping\n",
    "\n",
    "patients = (\n",
    "    dataset[dataset.icu == 1]\n",
    "    .groupby(\"patient_visit_identifier\")\n",
    "    .first()[\n",
    "        [\n",
    "            \"disease_grouping_1\",\n",
    "            \"disease_grouping_2\",\n",
    "            \"disease_grouping_3\",\n",
    "            \"disease_grouping_4\",\n",
    "            \"disease_grouping_5\",\n",
    "        ]\n",
    "    ]\n",
    ")\n",
    "\n",
    "patients_count = patients.shape[0]\n",
    "patients = patients.sum()\n",
    "\n",
    "patients"
   ]
  },
  {
   "cell_type": "code",
   "execution_count": 14,
   "id": "f493ac46",
   "metadata": {},
   "outputs": [
    {
     "data": {
      "image/png": "[encoded data removed]",
      "text/plain": [
       "<Figure size 1080x720 with 1 Axes>"
      ]
     },
     "metadata": {
      "needs_background": "dark"
     },
     "output_type": "display_data"
    },
    {
     "data": {
      "application/javascript": [
       "\n",
       "            setTimeout(function() {\n",
       "                var nbb_cell_id = 14;\n",
       "                var nbb_unformatted_code = \"# Select data\\nindex = [group[-1:] for group in patients.index]\\nvalue = patients.values\\n\\n# Create a figure\\nfigure = plt.figure()\\n\\n# Create a subplot\\naxis = figure.subplots(1)\\n\\n# Create bar plot\\naxis.barh(index, value, zorder=2)\\n\\n# Set labels\\naxis.set_title(\\\"Number of Patients Sent to ICU and Their Conditions\\\")\\naxis.set_ylabel(\\\"Disease Group\\\")\\naxis.set_xlabel(\\\"Patient Count\\\")\\n\\nplt.show(figure)\";\n",
       "                var nbb_formatted_code = \"# Select data\\nindex = [group[-1:] for group in patients.index]\\nvalue = patients.values\\n\\n# Create a figure\\nfigure = plt.figure()\\n\\n# Create a subplot\\naxis = figure.subplots(1)\\n\\n# Create bar plot\\naxis.barh(index, value, zorder=2)\\n\\n# Set labels\\naxis.set_title(\\\"Number of Patients Sent to ICU and Their Conditions\\\")\\naxis.set_ylabel(\\\"Disease Group\\\")\\naxis.set_xlabel(\\\"Patient Count\\\")\\n\\nplt.show(figure)\";\n",
       "                var nbb_cells = Jupyter.notebook.get_cells();\n",
       "                for (var i = 0; i < nbb_cells.length; ++i) {\n",
       "                    if (nbb_cells[i].input_prompt_number == nbb_cell_id) {\n",
       "                        if (nbb_cells[i].get_text() == nbb_unformatted_code) {\n",
       "                             nbb_cells[i].set_text(nbb_formatted_code);\n",
       "                        }\n",
       "                        break;\n",
       "                    }\n",
       "                }\n",
       "            }, 500);\n",
       "            "
      ],
      "text/plain": [
       "<IPython.core.display.Javascript object>"
      ]
     },
     "metadata": {},
     "output_type": "display_data"
    }
   ],
   "source": [
    "# Select data\n",
    "index = [group[-1:] for group in patients.index]\n",
    "value = patients.values\n",
    "\n",
    "# Create a figure\n",
    "figure = plt.figure()\n",
    "\n",
    "# Create a subplot\n",
    "axis = figure.subplots(1)\n",
    "\n",
    "# Create bar plot\n",
    "axis.barh(index, value, zorder=2)\n",
    "\n",
    "# Set labels\n",
    "axis.set_title(\"Number of Patients Sent to ICU and Their Conditions\")\n",
    "axis.set_ylabel(\"Disease Group\")\n",
    "axis.set_xlabel(\"Patient Count\")\n",
    "\n",
    "plt.show(figure)"
   ]
  },
  {
   "cell_type": "code",
   "execution_count": 15,
   "id": "6f13c83d",
   "metadata": {},
   "outputs": [
    {
     "data": {
      "image/png": "[encoded data removed]",
      "text/plain": [
       "<Figure size 1080x720 with 1 Axes>"
      ]
     },
     "metadata": {
      "needs_background": "dark"
     },
     "output_type": "display_data"
    },
    {
     "data": {
      "application/javascript": [
       "\n",
       "            setTimeout(function() {\n",
       "                var nbb_cell_id = 15;\n",
       "                var nbb_unformatted_code = \"# Create figure\\nfigure = plt.figure()\\n\\n# Create a subplot\\naxis = figure.subplots(1)\\n\\n# Create horizontal bar plot\\naxis.barh(index, (value / patients_count) * 100, zorder=2)\\n\\n# Set labels\\naxis.set_title(\\\"Number of Patients Sent to ICU and Their Conditions (in %)\\\")\\naxis.set_ylabel(\\\"Disease Group\\\")\\naxis.set_xlabel(\\\"Percentage of Total Patients\\\")\\n\\nplt.show(figure)\";\n",
       "                var nbb_formatted_code = \"# Create figure\\nfigure = plt.figure()\\n\\n# Create a subplot\\naxis = figure.subplots(1)\\n\\n# Create horizontal bar plot\\naxis.barh(index, (value / patients_count) * 100, zorder=2)\\n\\n# Set labels\\naxis.set_title(\\\"Number of Patients Sent to ICU and Their Conditions (in %)\\\")\\naxis.set_ylabel(\\\"Disease Group\\\")\\naxis.set_xlabel(\\\"Percentage of Total Patients\\\")\\n\\nplt.show(figure)\";\n",
       "                var nbb_cells = Jupyter.notebook.get_cells();\n",
       "                for (var i = 0; i < nbb_cells.length; ++i) {\n",
       "                    if (nbb_cells[i].input_prompt_number == nbb_cell_id) {\n",
       "                        if (nbb_cells[i].get_text() == nbb_unformatted_code) {\n",
       "                             nbb_cells[i].set_text(nbb_formatted_code);\n",
       "                        }\n",
       "                        break;\n",
       "                    }\n",
       "                }\n",
       "            }, 500);\n",
       "            "
      ],
      "text/plain": [
       "<IPython.core.display.Javascript object>"
      ]
     },
     "metadata": {},
     "output_type": "display_data"
    }
   ],
   "source": [
    "# Create figure\n",
    "figure = plt.figure()\n",
    "\n",
    "# Create a subplot\n",
    "axis = figure.subplots(1)\n",
    "\n",
    "# Create horizontal bar plot\n",
    "axis.barh(index, (value / patients_count) * 100, zorder=2)\n",
    "\n",
    "# Set labels\n",
    "axis.set_title(\"Number of Patients Sent to ICU and Their Conditions (in %)\")\n",
    "axis.set_ylabel(\"Disease Group\")\n",
    "axis.set_xlabel(\"Percentage of Total Patients\")\n",
    "\n",
    "plt.show(figure)"
   ]
  },
  {
   "cell_type": "markdown",
   "id": "626fad47",
   "metadata": {},
   "source": [
    "To have a better idea if any of these disease groups have influence on the conditions of the patient to be sent to the ICU, we can compare with the count of patients that weren't sent to ICU."
   ]
  },
  {
   "cell_type": "code",
   "execution_count": 16,
   "id": "0441079c",
   "metadata": {},
   "outputs": [
    {
     "data": {
      "application/javascript": [
       "\n",
       "            setTimeout(function() {\n",
       "                var nbb_cell_id = 16;\n",
       "                var nbb_unformatted_code = \"# Getting count of patients for each disease grouping\\n\\ncolumns = [\\n    \\\"disease_grouping_1\\\",\\n    \\\"disease_grouping_2\\\",\\n    \\\"disease_grouping_3\\\",\\n    \\\"disease_grouping_4\\\",\\n    \\\"disease_grouping_5\\\",\\n    \\\"icu\\\",\\n]\\n\\npatients = dataset.groupby(\\\"patient_visit_identifier\\\").last()[columns]\\n\\ncolumns.remove(\\\"icu\\\")\\n\\npatients_icu = patients[patients.icu == 1][columns].sum()\\npatients_not_icu = patients[patients.icu == 0][columns].sum()\";\n",
       "                var nbb_formatted_code = \"# Getting count of patients for each disease grouping\\n\\ncolumns = [\\n    \\\"disease_grouping_1\\\",\\n    \\\"disease_grouping_2\\\",\\n    \\\"disease_grouping_3\\\",\\n    \\\"disease_grouping_4\\\",\\n    \\\"disease_grouping_5\\\",\\n    \\\"icu\\\",\\n]\\n\\npatients = dataset.groupby(\\\"patient_visit_identifier\\\").last()[columns]\\n\\ncolumns.remove(\\\"icu\\\")\\n\\npatients_icu = patients[patients.icu == 1][columns].sum()\\npatients_not_icu = patients[patients.icu == 0][columns].sum()\";\n",
       "                var nbb_cells = Jupyter.notebook.get_cells();\n",
       "                for (var i = 0; i < nbb_cells.length; ++i) {\n",
       "                    if (nbb_cells[i].input_prompt_number == nbb_cell_id) {\n",
       "                        if (nbb_cells[i].get_text() == nbb_unformatted_code) {\n",
       "                             nbb_cells[i].set_text(nbb_formatted_code);\n",
       "                        }\n",
       "                        break;\n",
       "                    }\n",
       "                }\n",
       "            }, 500);\n",
       "            "
      ],
      "text/plain": [
       "<IPython.core.display.Javascript object>"
      ]
     },
     "metadata": {},
     "output_type": "display_data"
    }
   ],
   "source": [
    "# Getting count of patients for each disease grouping\n",
    "\n",
    "columns = [\n",
    "    \"disease_grouping_1\",\n",
    "    \"disease_grouping_2\",\n",
    "    \"disease_grouping_3\",\n",
    "    \"disease_grouping_4\",\n",
    "    \"disease_grouping_5\",\n",
    "    \"icu\",\n",
    "]\n",
    "\n",
    "patients = dataset.groupby(\"patient_visit_identifier\").last()[columns]\n",
    "\n",
    "columns.remove(\"icu\")\n",
    "\n",
    "patients_icu = patients[patients.icu == 1][columns].sum()\n",
    "patients_not_icu = patients[patients.icu == 0][columns].sum()"
   ]
  },
  {
   "cell_type": "code",
   "execution_count": 17,
   "id": "fe5e0970",
   "metadata": {},
   "outputs": [
    {
     "data": {
      "image/png": "[encoded data removed]",
      "text/plain": [
       "<Figure size 1080x720 with 1 Axes>"
      ]
     },
     "metadata": {
      "needs_background": "dark"
     },
     "output_type": "display_data"
    },
    {
     "data": {
      "application/javascript": [
       "\n",
       "            setTimeout(function() {\n",
       "                var nbb_cell_id = 17;\n",
       "                var nbb_unformatted_code = \"index = [group[-1:] for group in patients_icu.index]\\n\\n# Create a figure\\nfigure = plt.figure()\\n\\n# Create a subplot\\naxis = figure.subplots(1)\\n\\n# Create bar plot\\naxis.barh(index, patients_icu.values, zorder=2, label=\\\"In ICU\\\")\\naxis.barh(\\n    index,\\n    patients_not_icu.values,\\n    zorder=2,\\n    left=patients_icu.values,\\n    label=\\\"Not In ICU\\\",\\n)\\n\\n# Set labels\\naxis.set_title(\\\"Number of Patients and Their Clinical Status\\\")\\naxis.set_ylabel(\\\"Disease Group\\\")\\naxis.set_xlabel(\\\"Patient Count\\\")\\n\\nplt.legend()\\n\\nplt.show(figure)\";\n",
       "                var nbb_formatted_code = \"index = [group[-1:] for group in patients_icu.index]\\n\\n# Create a figure\\nfigure = plt.figure()\\n\\n# Create a subplot\\naxis = figure.subplots(1)\\n\\n# Create bar plot\\naxis.barh(index, patients_icu.values, zorder=2, label=\\\"In ICU\\\")\\naxis.barh(\\n    index,\\n    patients_not_icu.values,\\n    zorder=2,\\n    left=patients_icu.values,\\n    label=\\\"Not In ICU\\\",\\n)\\n\\n# Set labels\\naxis.set_title(\\\"Number of Patients and Their Clinical Status\\\")\\naxis.set_ylabel(\\\"Disease Group\\\")\\naxis.set_xlabel(\\\"Patient Count\\\")\\n\\nplt.legend()\\n\\nplt.show(figure)\";\n",
       "                var nbb_cells = Jupyter.notebook.get_cells();\n",
       "                for (var i = 0; i < nbb_cells.length; ++i) {\n",
       "                    if (nbb_cells[i].input_prompt_number == nbb_cell_id) {\n",
       "                        if (nbb_cells[i].get_text() == nbb_unformatted_code) {\n",
       "                             nbb_cells[i].set_text(nbb_formatted_code);\n",
       "                        }\n",
       "                        break;\n",
       "                    }\n",
       "                }\n",
       "            }, 500);\n",
       "            "
      ],
      "text/plain": [
       "<IPython.core.display.Javascript object>"
      ]
     },
     "metadata": {},
     "output_type": "display_data"
    }
   ],
   "source": [
    "index = [group[-1:] for group in patients_icu.index]\n",
    "\n",
    "# Create a figure\n",
    "figure = plt.figure()\n",
    "\n",
    "# Create a subplot\n",
    "axis = figure.subplots(1)\n",
    "\n",
    "# Create bar plot\n",
    "axis.barh(index, patients_icu.values, zorder=2, label=\"In ICU\")\n",
    "axis.barh(\n",
    "    index,\n",
    "    patients_not_icu.values,\n",
    "    zorder=2,\n",
    "    left=patients_icu.values,\n",
    "    label=\"Not In ICU\",\n",
    ")\n",
    "\n",
    "# Set labels\n",
    "axis.set_title(\"Number of Patients and Their Clinical Status\")\n",
    "axis.set_ylabel(\"Disease Group\")\n",
    "axis.set_xlabel(\"Patient Count\")\n",
    "\n",
    "plt.legend()\n",
    "\n",
    "plt.show(figure)"
   ]
  },
  {
   "cell_type": "markdown",
   "id": "81123f68",
   "metadata": {},
   "source": [
    "# References\n",
    "\n",
    "<a id=\"ref_1\"></a>[1] 'COVID-19'  \n",
    "**Wikipedia**  \n",
    "Available at https://en.wikipedia.org/wiki/COVID-19 (Accessed: 2021-04-06)\n",
    "<br><br>\n",
    "<a id=\"ref_2\"></a>[2] 'Treatment and management of COVID-19'  \n",
    "**Wikipedia**  \n",
    "Available at https://en.wikipedia.org/wiki/Treatment_and_management_of_COVID-19 (Accessed: 2021-04-06)\n",
    "<br><br>\n",
    "<a id=\"ref_3\"></a>[3] 'Certain Medical Conditions and Risk for Severe COVID-19 Illness'  \n",
    "**Centers for Disease Control and Prevention**  \n",
    "Available at https://www.cdc.gov/coronavirus/2019-ncov/need-extra-precautions/people-with-medical-conditions.html (Accessed : 2021-04-06)\n",
    "<br><br>\n",
    "<a id=\"ref_4\"></a>[4]  'COVID-19 - Clinical Data to assess diagnosis'  \n",
    "**Kaggle**  \n",
    "Available at https://www.kaggle.com/S%C3%ADrio-Libanes/covid19 (Accessed: 2021-04-06)\n",
    "<br><br>\n",
    "<a id=\"ref_5\"></a>[5]  'Men and COVID-19: A Biopsychosocial Approach to Understanding Sex Differences in Mortality and Recommendations for Practice and Policy Interventions'  \n",
    "**Derek M. Griffith, PhD; Garima Sharma, MD; Christopher S. Holliday, PhD, MPH; Okechuku K. Enyia, MPH; Matthew Valliere, MPA; Andrea R. Semlow, MS, MPH; Elizabeth C. Stewart, DrPH, MSPH; Roger Scott Blumenthal, MD**  \n",
    "Published: 2020-07-16  \n",
    "Available at https://www.cdc.gov/pcd/issues/2020/20_0247.htm (Accessed: 2021-04-06)\n",
    "<br><br>\n",
    "<a id=\"ref_6\"></a>[6]  'Epidemiology Working Group for NCIP Epidemic Response, Chinese Center for Disease Control and Prevention.'  \n",
    "**Zhonghua Liu Xing Bing Xue Za Zhi**  \n",
    "Published: 2020-02-10  \n",
    "Available at https://pubmed.ncbi.nlm.nih.gov/32064853/ (Accessed: 2021-04-06)"
   ]
  }
 ],
 "metadata": {
  "kernelspec": {
   "display_name": "Python 3",
   "language": "python",
   "name": "python3"
  },
  "language_info": {
   "codemirror_mode": {
    "name": "ipython",
    "version": 3
   },
   "file_extension": ".py",
   "mimetype": "text/x-python",
   "name": "python",
   "nbconvert_exporter": "python",
   "pygments_lexer": "ipython3",
   "version": "3.9.2"
  }
 },
 "nbformat": 4,
 "nbformat_minor": 5
}
